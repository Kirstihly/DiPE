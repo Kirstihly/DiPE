{
 "cells": [
  {
   "cell_type": "code",
   "execution_count": 1,
   "metadata": {},
   "outputs": [],
   "source": [
    "import os\n",
    "import numpy as np\n",
    "import PIL.Image as pil\n",
    "import matplotlib as mpl\n",
    "import matplotlib.cm as cm"
   ]
  },
  {
   "cell_type": "code",
   "execution_count": 2,
   "metadata": {},
   "outputs": [],
   "source": [
    "# The image to be processed.\n",
    "# The output will be saved in the same directory.\n",
    "input_path = \"/home/leying/Documents/monodepth2/assets/drive_test_mono+stereo_640x192/0000000000.png\""
   ]
  },
  {
   "cell_type": "code",
   "execution_count": 3,
   "metadata": {},
   "outputs": [],
   "source": [
    "input_image = np.array(pil.open(input_path)).astype(np.float64)\n",
    "# Assume the depth prediction already normalized\n",
    "normalizer = mpl.colors.Normalize(vmin=input_image.min(), vmax=input_image.max())\n",
    "mapper = cm.ScalarMappable(norm=normalizer, cmap='magma')\n",
    "colormapped_im = (mapper.to_rgba(input_image)[:, :, :3] * 255).astype(np.uint8)\n",
    "im = pil.fromarray(colormapped_im)\n",
    "im.save(os.path.join(os.path.dirname(input_path), os.path.basename(input_path)[:-4]+'_rgb.png'))"
   ]
  },
  {
   "cell_type": "code",
   "execution_count": null,
   "metadata": {},
   "outputs": [],
   "source": []
  }
 ],
 "metadata": {
  "kernelspec": {
   "display_name": "dipe",
   "language": "python",
   "name": "dipe"
  },
  "language_info": {
   "codemirror_mode": {
    "name": "ipython",
    "version": 3
   },
   "file_extension": ".py",
   "mimetype": "text/x-python",
   "name": "python",
   "nbconvert_exporter": "python",
   "pygments_lexer": "ipython3",
   "version": "3.7.10"
  }
 },
 "nbformat": 4,
 "nbformat_minor": 4
}
